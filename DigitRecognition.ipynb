{
 "cells": [
  {
   "cell_type": "markdown",
   "metadata": {
    "colab_type": "text",
    "id": "iQjHqsmTAVLU"
   },
   "source": [
    "## Digit Recognition"
   ]
  },
  {
   "cell_type": "code",
   "execution_count": 41,
   "metadata": {},
   "outputs": [],
   "source": [
    "import tensorflow as tf\n",
    "from os import path, getcwd, chdir\n",
    "path = f\"{getcwd()}/../tmp2/mnist.npz\""
   ]
  },
  {
   "cell_type": "code",
   "execution_count": 42,
   "metadata": {},
   "outputs": [],
   "source": [
    "config = tf.ConfigProto()\n",
    "config.gpu_options.allow_growth = True\n",
    "sess = tf.Session(config=config)"
   ]
  },
  {
   "cell_type": "code",
   "execution_count": 43,
   "metadata": {},
   "outputs": [],
   "source": [
    "# callback function to stop training\n",
    "\n",
    "class myCallback(tf.keras.callbacks.Callback):\n",
    "        def on_epoch_end(self, epoch, logs={}):\n",
    "            if(logs.get('acc')>0.998):\n",
    "                print(\"\\nReached 99.8% accuracy so cancelling training!\")\n",
    "                self.model.stop_training = True\n",
    "\n",
    "def train_mnist_conv():\n",
    "\n",
    "    callbacks = myCallback()    \n",
    "    mnist = tf.keras.datasets.mnist\n",
    "    (training_images, training_labels), (test_images, test_labels) = mnist.load_data(path=path)\n",
    "\n",
    "    training_images = training_images.reshape(60000, 28, 28, 1)\n",
    "    test_images = test_images.reshape(10000, 28, 28, 1)\n",
    "    \n",
    "    # Normalizing List\n",
    "    training_images = training_images / 255.0\n",
    "    test_images = test_images/255.0\n",
    "\n",
    "    # Define model\n",
    "    model = tf.keras.models.Sequential([\n",
    "             tf.keras.layers.Conv2D(32, (3,3), activation='relu', input_shape=(28, 28, 1)),\n",
    "             tf.keras.layers.MaxPooling2D(2, 2),\n",
    "             tf.keras.layers.Flatten(),\n",
    "             tf.keras.layers.Dense(128, activation='relu'),\n",
    "             tf.keras.layers.Dense(10, activation='softmax')\n",
    "    ])\n",
    "\n",
    "    model.compile(optimizer='adam', loss='sparse_categorical_crossentropy', metrics=['accuracy'])\n",
    "    model.summary()\n",
    "    \n",
    "    # Train Model\n",
    "    results = model.fit(training_images, training_labels, epochs=10, callbacks=[callbacks])\n",
    "    trainAccuracy = (results.history['acc'][-1])\n",
    "    print(\"Training Accuracy: {}\".format(trainAccuracy))\n",
    "    \n",
    "    # Evaluate the model on the Test data ( Unseen Data )\n",
    "    loss,testAccuracy = model.evaluate(test_images, test_labels)\n",
    "    print(\"Loss: {}, Test Accuracy: {}\".format(loss,testAccuracy))\n",
    "    print(\"Difference in accuracy for training and test data is: {0:.2f} %\".format((trainAccuracy - testAccuracy)*100))"
   ]
  },
  {
   "cell_type": "code",
   "execution_count": 44,
   "metadata": {
    "scrolled": true
   },
   "outputs": [
    {
     "name": "stdout",
     "output_type": "stream",
     "text": [
      "Model: \"sequential_13\"\n",
      "_________________________________________________________________\n",
      "Layer (type)                 Output Shape              Param #   \n",
      "=================================================================\n",
      "conv2d_13 (Conv2D)           (None, 26, 26, 32)        320       \n",
      "_________________________________________________________________\n",
      "max_pooling2d_13 (MaxPooling (None, 13, 13, 32)        0         \n",
      "_________________________________________________________________\n",
      "flatten_13 (Flatten)         (None, 5408)              0         \n",
      "_________________________________________________________________\n",
      "dense_26 (Dense)             (None, 128)               692352    \n",
      "_________________________________________________________________\n",
      "dense_27 (Dense)             (None, 10)                1290      \n",
      "=================================================================\n",
      "Total params: 693,962\n",
      "Trainable params: 693,962\n",
      "Non-trainable params: 0\n",
      "_________________________________________________________________\n",
      "Epoch 1/10\n",
      "60000/60000 [==============================] - 14s 233us/sample - loss: 0.1440 - acc: 0.9566\n",
      "Epoch 2/10\n",
      "60000/60000 [==============================] - 14s 237us/sample - loss: 0.0492 - acc: 0.9851\n",
      "Epoch 3/10\n",
      "60000/60000 [==============================] - 15s 253us/sample - loss: 0.0318 - acc: 0.9897\n",
      "Epoch 4/10\n",
      "60000/60000 [==============================] - 15s 245us/sample - loss: 0.0199 - acc: 0.9935\n",
      "Epoch 5/10\n",
      "60000/60000 [==============================] - 15s 250us/sample - loss: 0.0140 - acc: 0.9958\n",
      "Epoch 6/10\n",
      "60000/60000 [==============================] - 14s 227us/sample - loss: 0.0097 - acc: 0.9968\n",
      "Epoch 7/10\n",
      "60000/60000 [==============================] - 14s 225us/sample - loss: 0.0080 - acc: 0.9975\n",
      "Epoch 8/10\n",
      "60000/60000 [==============================] - 14s 235us/sample - loss: 0.0074 - acc: 0.9976\n",
      "Epoch 9/10\n",
      "59712/60000 [============================>.] - ETA: 0s - loss: 0.0048 - acc: 0.9984\n",
      "Reached 99.8% accuracy so cancelling training!\n",
      "60000/60000 [==============================] - 14s 230us/sample - loss: 0.0047 - acc: 0.9984\n",
      "Training Accuracy: 0.998449981212616\n",
      "10000/10000 [==============================] - 2s 170us/sample - loss: 0.0549 - acc: 0.9877\n",
      "Loss: 0.05491600734786598, Test Accuracy: 0.9876999855041504\n",
      "Difference in accuracy for training and test data is: 1.07 %\n"
     ]
    }
   ],
   "source": [
    "train_mnist_conv()"
   ]
  },
  {
   "cell_type": "code",
   "execution_count": null,
   "metadata": {},
   "outputs": [],
   "source": []
  }
 ],
 "metadata": {
  "coursera": {
   "course_slug": "introduction-tensorflow",
   "graded_item_id": "ml06H",
   "launcher_item_id": "hQF8A"
  },
  "kernelspec": {
   "display_name": "Python 3",
   "language": "python",
   "name": "python3"
  },
  "language_info": {
   "codemirror_mode": {
    "name": "ipython",
    "version": 3
   },
   "file_extension": ".py",
   "mimetype": "text/x-python",
   "name": "python",
   "nbconvert_exporter": "python",
   "pygments_lexer": "ipython3",
   "version": "3.6.8"
  }
 },
 "nbformat": 4,
 "nbformat_minor": 1
}
